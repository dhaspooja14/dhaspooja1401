{
  "nbformat": 4,
  "nbformat_minor": 0,
  "metadata": {
    "colab": {
      "name": "Task3.ipynb",
      "provenance": [],
      "collapsed_sections": []
    },
    "kernelspec": {
      "name": "python3",
      "display_name": "Python 3"
    },
    "language_info": {
      "name": "python"
    }
  },
  "cells": [
    {
      "cell_type": "markdown",
      "source": [
        "# **The Sparks Foundation**\n",
        "\n",
        "GRIP: March 2022"
      ],
      "metadata": {
        "id": "6pdCtfh1DhYb"
      }
    },
    {
      "cell_type": "markdown",
      "source": [
        "# **Name: Pooja Dhas**\n",
        "\n",
        "**Data Science and Business Analytics Intern**"
      ],
      "metadata": {
        "id": "NDvWYtywDoew"
      }
    },
    {
      "cell_type": "code",
      "execution_count": null,
      "metadata": {
        "id": "xZTdi6bFDUbC"
      },
      "outputs": [],
      "source": [
        "import numpy as np\n",
        "import pandas as pd\n",
        "import matplotlib.pyplot as plt\n",
        "%matplotlib inline"
      ]
    },
    {
      "cell_type": "code",
      "source": [
        "from sklearn.datasets import load_iris"
      ],
      "metadata": {
        "id": "0CQR76HJDvgc"
      },
      "execution_count": null,
      "outputs": []
    },
    {
      "cell_type": "code",
      "source": [
        "dataset=load_iris()"
      ],
      "metadata": {
        "id": "-p0_FskMDyVx"
      },
      "execution_count": null,
      "outputs": []
    },
    {
      "cell_type": "code",
      "source": [
        "dataset.keys()"
      ],
      "metadata": {
        "id": "zPD-6z43DzGO"
      },
      "execution_count": null,
      "outputs": []
    },
    {
      "cell_type": "code",
      "source": [
        "print(dataset.DESCR)"
      ],
      "metadata": {
        "id": "8fErA_p3D3--"
      },
      "execution_count": null,
      "outputs": []
    },
    {
      "cell_type": "code",
      "source": [
        "df=pd.DataFrame(dataset.data,columns=dataset.feature_names)\n",
        "df.head()"
      ],
      "metadata": {
        "id": "-niZDxGYD5jJ"
      },
      "execution_count": null,
      "outputs": []
    },
    {
      "cell_type": "code",
      "source": [
        "df['Flower Type']=dataset.target\n",
        "df.head()"
      ],
      "metadata": {
        "id": "tFzm_YPID9uC"
      },
      "execution_count": null,
      "outputs": []
    },
    {
      "cell_type": "code",
      "source": [
        "df.corr().round(2)"
      ],
      "metadata": {
        "id": "RjXaRx2AEAKy"
      },
      "execution_count": null,
      "outputs": []
    },
    {
      "cell_type": "code",
      "source": [
        "plt.scatter(df['sepal length (cm)'],df['sepal width (cm)'])\n",
        "plt.show()"
      ],
      "metadata": {
        "id": "pK7lUf6REDZ7"
      },
      "execution_count": null,
      "outputs": []
    },
    {
      "cell_type": "code",
      "source": [
        "plt.scatter(df['petal length (cm)'],df['petal width (cm)'])\n",
        "plt.show()"
      ],
      "metadata": {
        "id": "4zLeDvUtEGAW"
      },
      "execution_count": null,
      "outputs": []
    },
    {
      "cell_type": "code",
      "source": [
        "df.columns=['SL','SW','PL','PW','Flower Type']\n",
        "df.head()"
      ],
      "metadata": {
        "id": "fp1a341ZEIic"
      },
      "execution_count": null,
      "outputs": []
    },
    {
      "cell_type": "code",
      "source": [
        "X=df[['SL','SW']]\n",
        "X.head()"
      ],
      "metadata": {
        "id": "z0z7rpiOELm3"
      },
      "execution_count": null,
      "outputs": []
    },
    {
      "cell_type": "code",
      "source": [
        "y=df['Flower Type']\n",
        "y.head()"
      ],
      "metadata": {
        "id": "hn1RvKJ_ENzu"
      },
      "execution_count": null,
      "outputs": []
    },
    {
      "cell_type": "code",
      "source": [
        "from sklearn.tree import DecisionTreeClassifier\n",
        "obj=DecisionTreeClassifier()\n",
        "model=obj.fit(X,y)\n",
        "yp=model.predict(X)\n",
        "acc=model.score(X,y)\n",
        "from sklearn.metrics import confusion_matrix,classification_report"
      ],
      "metadata": {
        "id": "GqIaJEglEQYX"
      },
      "execution_count": null,
      "outputs": []
    },
    {
      "cell_type": "code",
      "source": [
        "confusion_matrix(y,yp)"
      ],
      "metadata": {
        "id": "4GN-BEZVESuG"
      },
      "execution_count": null,
      "outputs": []
    },
    {
      "cell_type": "code",
      "source": [
        "X1=df[['PL','PW']]\n",
        "X1.head()"
      ],
      "metadata": {
        "id": "hAuSLAmtEW2V"
      },
      "execution_count": null,
      "outputs": []
    },
    {
      "cell_type": "code",
      "source": [
        "y1=df['Flower Type']\n",
        "y1.head()"
      ],
      "metadata": {
        "id": "6aizP5dEEYW-"
      },
      "execution_count": null,
      "outputs": []
    },
    {
      "cell_type": "code",
      "source": [
        "model1=obj.fit(X1,y1)\n",
        "yp1=model1.predict(X1)\n",
        "yp1"
      ],
      "metadata": {
        "id": "Nt05ykbnEauG"
      },
      "execution_count": null,
      "outputs": []
    },
    {
      "cell_type": "code",
      "source": [
        "model1.score(X1,y1)"
      ],
      "metadata": {
        "id": "CVqujxdOEc8W"
      },
      "execution_count": null,
      "outputs": []
    },
    {
      "cell_type": "code",
      "source": [
        "from sklearn.tree import plot_tree\n",
        "\n",
        "plot_tree(model1,feature_names=['PL','PW'],class_names=dataset.target_names,filled=True)"
      ],
      "metadata": {
        "id": "12_CVPdrEfQ0"
      },
      "execution_count": null,
      "outputs": []
    }
  ]
}